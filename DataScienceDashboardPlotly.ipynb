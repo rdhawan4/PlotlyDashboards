{
 "cells": [
  {
   "cell_type": "markdown",
   "id": "b8557f09",
   "metadata": {},
   "source": [
    "# Data Science Dashboard"
   ]
  },
  {
   "cell_type": "code",
   "execution_count": 1,
   "id": "c8b2f4eb",
   "metadata": {},
   "outputs": [],
   "source": [
    "# !pip install plotly\n",
    "# !pip install plotly==5.11.0\n",
    "# !pip install dash\n",
    "# !pip install dash-bootstrap-components\n",
    "\n",
    "import plotly\n",
    "import plotly.express as px\n",
    "import plotly.graph_objects as go\n",
    "\n",
    "import pandas as pd\n",
    "import numpy as np\n",
    "\n",
    "import dash\n",
    "from dash import dcc\n",
    "from dash import html\n",
    "import dash_bootstrap_components as dbc\n",
    "\n",
    "from dash.dependencies import Input,Output"
   ]
  },
  {
   "cell_type": "code",
   "execution_count": 2,
   "id": "4e3875ba",
   "metadata": {},
   "outputs": [
    {
     "name": "stdout",
     "output_type": "stream",
     "text": [
      "<class 'pandas.core.frame.DataFrame'>\n",
      "RangeIndex: 607 entries, 0 to 606\n",
      "Data columns (total 17 columns):\n",
      " #   Column              Non-Null Count  Dtype  \n",
      "---  ------              --------------  -----  \n",
      " 0   Unnamed: 0          607 non-null    int64  \n",
      " 1   work_year           607 non-null    int64  \n",
      " 2   experience_level    607 non-null    object \n",
      " 3   employment_type     607 non-null    object \n",
      " 4   job_title           607 non-null    object \n",
      " 5   salary              607 non-null    int64  \n",
      " 6   salary_currency     607 non-null    object \n",
      " 7   salary_in_usd       607 non-null    int64  \n",
      " 8   employee_residence  607 non-null    object \n",
      " 9   remote_ratio        607 non-null    int64  \n",
      " 10  company_location    607 non-null    object \n",
      " 11  company_size        607 non-null    object \n",
      " 12  Continent           607 non-null    object \n",
      " 13  Country             607 non-null    object \n",
      " 14  Alpha-3 code        607 non-null    object \n",
      " 15  Lat                 607 non-null    float64\n",
      " 16  Long                607 non-null    float64\n",
      "dtypes: float64(2), int64(5), object(10)\n",
      "memory usage: 80.7+ KB\n"
     ]
    }
   ],
   "source": [
    "df=pd.read_csv(r\"ds_salaries.csv\")\n",
    "df.info()"
   ]
  },
  {
   "cell_type": "markdown",
   "id": "e3d55977",
   "metadata": {},
   "source": [
    "# Data Cleaning"
   ]
  },
  {
   "cell_type": "code",
   "execution_count": 3,
   "id": "d6ecdbdd",
   "metadata": {},
   "outputs": [
    {
     "data": {
      "text/html": [
       "<div>\n",
       "<style scoped>\n",
       "    .dataframe tbody tr th:only-of-type {\n",
       "        vertical-align: middle;\n",
       "    }\n",
       "\n",
       "    .dataframe tbody tr th {\n",
       "        vertical-align: top;\n",
       "    }\n",
       "\n",
       "    .dataframe thead th {\n",
       "        text-align: right;\n",
       "    }\n",
       "</style>\n",
       "<table border=\"1\" class=\"dataframe\">\n",
       "  <thead>\n",
       "    <tr style=\"text-align: right;\">\n",
       "      <th></th>\n",
       "      <th>Year</th>\n",
       "      <th>Experience</th>\n",
       "      <th>Employment</th>\n",
       "      <th>Job_Title</th>\n",
       "      <th>Salary</th>\n",
       "      <th>employee_residence</th>\n",
       "      <th>remote_ratio</th>\n",
       "      <th>company_location</th>\n",
       "      <th>Company_Size</th>\n",
       "      <th>Continent</th>\n",
       "      <th>Country</th>\n",
       "      <th>Alpha-3 code</th>\n",
       "      <th>Lat</th>\n",
       "      <th>Long</th>\n",
       "    </tr>\n",
       "  </thead>\n",
       "  <tbody>\n",
       "    <tr>\n",
       "      <th>0</th>\n",
       "      <td>2020</td>\n",
       "      <td>Middle Level</td>\n",
       "      <td>Full Time</td>\n",
       "      <td>Data Scientist</td>\n",
       "      <td>79833</td>\n",
       "      <td>DE</td>\n",
       "      <td>0</td>\n",
       "      <td>DE</td>\n",
       "      <td>Large (10,000+)</td>\n",
       "      <td>Europe</td>\n",
       "      <td>Germany</td>\n",
       "      <td>DEU</td>\n",
       "      <td>51.0</td>\n",
       "      <td>9.0</td>\n",
       "    </tr>\n",
       "    <tr>\n",
       "      <th>1</th>\n",
       "      <td>2020</td>\n",
       "      <td>Senior Level</td>\n",
       "      <td>Full Time</td>\n",
       "      <td>Machine Learning Scientist</td>\n",
       "      <td>260000</td>\n",
       "      <td>JP</td>\n",
       "      <td>0</td>\n",
       "      <td>JP</td>\n",
       "      <td>Small (0-1,000)</td>\n",
       "      <td>Asia</td>\n",
       "      <td>Japan</td>\n",
       "      <td>JPN</td>\n",
       "      <td>36.0</td>\n",
       "      <td>138.0</td>\n",
       "    </tr>\n",
       "    <tr>\n",
       "      <th>2</th>\n",
       "      <td>2020</td>\n",
       "      <td>Senior Level</td>\n",
       "      <td>Full Time</td>\n",
       "      <td>Big Data Engineer</td>\n",
       "      <td>109024</td>\n",
       "      <td>GB</td>\n",
       "      <td>50</td>\n",
       "      <td>GB</td>\n",
       "      <td>Medium (1,000-10,000)</td>\n",
       "      <td>Europe</td>\n",
       "      <td>United Kingdom</td>\n",
       "      <td>GBR</td>\n",
       "      <td>54.0</td>\n",
       "      <td>-2.0</td>\n",
       "    </tr>\n",
       "    <tr>\n",
       "      <th>3</th>\n",
       "      <td>2020</td>\n",
       "      <td>Middle Level</td>\n",
       "      <td>Full Time</td>\n",
       "      <td>Product Data Analyst</td>\n",
       "      <td>20000</td>\n",
       "      <td>HN</td>\n",
       "      <td>0</td>\n",
       "      <td>HN</td>\n",
       "      <td>Small (0-1,000)</td>\n",
       "      <td>Americas</td>\n",
       "      <td>Honduras</td>\n",
       "      <td>HND</td>\n",
       "      <td>15.0</td>\n",
       "      <td>-86.5</td>\n",
       "    </tr>\n",
       "    <tr>\n",
       "      <th>4</th>\n",
       "      <td>2020</td>\n",
       "      <td>Senior Level</td>\n",
       "      <td>Full Time</td>\n",
       "      <td>Machine Learning Engineer</td>\n",
       "      <td>150000</td>\n",
       "      <td>US</td>\n",
       "      <td>50</td>\n",
       "      <td>US</td>\n",
       "      <td>Large (10,000+)</td>\n",
       "      <td>Americas</td>\n",
       "      <td>United States</td>\n",
       "      <td>USA</td>\n",
       "      <td>38.0</td>\n",
       "      <td>-97.0</td>\n",
       "    </tr>\n",
       "  </tbody>\n",
       "</table>\n",
       "</div>"
      ],
      "text/plain": [
       "   Year    Experience Employment                   Job_Title  Salary  \\\n",
       "0  2020  Middle Level  Full Time              Data Scientist   79833   \n",
       "1  2020  Senior Level  Full Time  Machine Learning Scientist  260000   \n",
       "2  2020  Senior Level  Full Time           Big Data Engineer  109024   \n",
       "3  2020  Middle Level  Full Time        Product Data Analyst   20000   \n",
       "4  2020  Senior Level  Full Time   Machine Learning Engineer  150000   \n",
       "\n",
       "  employee_residence  remote_ratio company_location           Company_Size  \\\n",
       "0                 DE             0               DE        Large (10,000+)   \n",
       "1                 JP             0               JP        Small (0-1,000)   \n",
       "2                 GB            50               GB  Medium (1,000-10,000)   \n",
       "3                 HN             0               HN        Small (0-1,000)   \n",
       "4                 US            50               US        Large (10,000+)   \n",
       "\n",
       "  Continent         Country Alpha-3 code   Lat   Long  \n",
       "0    Europe         Germany          DEU  51.0    9.0  \n",
       "1      Asia           Japan          JPN  36.0  138.0  \n",
       "2    Europe  United Kingdom          GBR  54.0   -2.0  \n",
       "3  Americas        Honduras          HND  15.0  -86.5  \n",
       "4  Americas   United States          USA  38.0  -97.0  "
      ]
     },
     "execution_count": 3,
     "metadata": {},
     "output_type": "execute_result"
    }
   ],
   "source": [
    "# Drop irrelevant columns\n",
    "df.drop(columns=['salary','salary_currency','Unnamed: 0'],inplace=True)\n",
    "\n",
    "#Rename Column headers\n",
    "df.rename(columns={'salary_in_usd':'Salary',\n",
    "                   'work_year':'Year',\n",
    "                   'experience_level':'Experience',\n",
    "                   'job_title':'Job_Title',\n",
    "                   'company_size':'Company_Size','employment_type':'Employment'},inplace=True)\n",
    "\n",
    "#Replace Experience Level Legend with values\n",
    "df['Experience'].replace({'MI':'Middle Level','SE':'Senior Level','EX':'Executive Level','EN':'Entry Level'},inplace=True)\n",
    "df['Employment'].replace({'FT':'Full Time','PT':'Part Time','CT':'Contractual','FL':'Freelance'},inplace=True)\n",
    "df['Company_Size'].replace({'L':'Large (10,000+)','S':'Small (0-1,000)','M':'Medium (1,000-10,000)'},inplace=True)\n",
    "\n",
    "\n",
    "df.head()"
   ]
  },
  {
   "cell_type": "code",
   "execution_count": null,
   "id": "eede9aea",
   "metadata": {
    "scrolled": true
   },
   "outputs": [
    {
     "name": "stdout",
     "output_type": "stream",
     "text": [
      "Dash is running on http://127.0.0.1:8050/\n",
      "\n",
      " * Serving Flask app \"__main__\" (lazy loading)\n",
      " * Environment: production\n",
      "\u001b[31m   WARNING: This is a development server. Do not use it in a production deployment.\u001b[0m\n",
      "\u001b[2m   Use a production WSGI server instead.\u001b[0m\n",
      " * Debug mode: off\n"
     ]
    },
    {
     "name": "stderr",
     "output_type": "stream",
     "text": [
      " * Running on http://127.0.0.1:8050/ (Press CTRL+C to quit)\n",
      "127.0.0.1 - - [03/Jul/2023 00:01:04] \"GET / HTTP/1.1\" 200 -\n",
      "127.0.0.1 - - [03/Jul/2023 00:01:04] \"GET /_dash-layout HTTP/1.1\" 200 -\n",
      "127.0.0.1 - - [03/Jul/2023 00:01:04] \"GET /_dash-dependencies HTTP/1.1\" 200 -\n",
      "127.0.0.1 - - [03/Jul/2023 00:01:04] \"GET /_dash-component-suites/dash/dcc/async-dropdown.js HTTP/1.1\" 200 -\n",
      "127.0.0.1 - - [03/Jul/2023 00:01:04] \"GET /_dash-component-suites/dash/dcc/async-graph.js HTTP/1.1\" 200 -\n",
      "127.0.0.1 - - [03/Jul/2023 00:01:04] \"GET /_dash-component-suites/dash/dcc/async-plotlyjs.js HTTP/1.1\" 200 -\n"
     ]
    },
    {
     "name": "stdout",
     "output_type": "stream",
     "text": [
      "Filter for:  All - All - All - [2020, 2021, 2022]\n"
     ]
    },
    {
     "name": "stderr",
     "output_type": "stream",
     "text": [
      "127.0.0.1 - - [03/Jul/2023 00:01:07] \"POST /_dash-update-component HTTP/1.1\" 200 -\n"
     ]
    },
    {
     "name": "stdout",
     "output_type": "stream",
     "text": [
      "Filter for:  All - Small (0-1,000) - All - [2020, 2021, 2022]\n"
     ]
    },
    {
     "name": "stderr",
     "output_type": "stream",
     "text": [
      "127.0.0.1 - - [03/Jul/2023 00:01:12] \"POST /_dash-update-component HTTP/1.1\" 200 -\n"
     ]
    },
    {
     "name": "stdout",
     "output_type": "stream",
     "text": [
      "Filter for:  All - Medium (1,000-10,000) - All - [2020, 2021, 2022]\n"
     ]
    },
    {
     "name": "stderr",
     "output_type": "stream",
     "text": [
      "127.0.0.1 - - [03/Jul/2023 00:01:15] \"POST /_dash-update-component HTTP/1.1\" 200 -\n"
     ]
    },
    {
     "name": "stdout",
     "output_type": "stream",
     "text": [
      "Filter for:  All - Large (10,000+) - All - [2020, 2021, 2022]\n"
     ]
    },
    {
     "name": "stderr",
     "output_type": "stream",
     "text": [
      "127.0.0.1 - - [03/Jul/2023 00:01:19] \"POST /_dash-update-component HTTP/1.1\" 200 -\n"
     ]
    },
    {
     "name": "stdout",
     "output_type": "stream",
     "text": [
      "Filter for:  All - All - All - [2020, 2021, 2022]\n"
     ]
    },
    {
     "name": "stderr",
     "output_type": "stream",
     "text": [
      "127.0.0.1 - - [03/Jul/2023 00:01:22] \"POST /_dash-update-component HTTP/1.1\" 200 -\n"
     ]
    }
   ],
   "source": [
    "# Framework with 4 filers : Country, Company Size, Experience Level, Work Mode\n",
    "\n",
    "app = dash.Dash(__name__,external_stylesheets=[dbc.themes.CERULEAN])\n",
    "\n",
    "app.layout = dbc.Container([\n",
    "    \n",
    "    ##################### -- TITLE -- #####################\n",
    "    dbc.Row(dbc.Col(html.H1(\"Data Science Dashboard with Dash\",\n",
    "                             className=\"text-center font-weight-bold mb-4\"),\n",
    "                    width=12\n",
    "                    )\n",
    "           ),\n",
    "    \n",
    "    ##################### -- FILTERS -- #####################\n",
    "    # Row for Filters\n",
    "    dbc.Row([\n",
    "            dbc.Col(dcc.Dropdown(id='FL_Country',\n",
    "                                  options=[{'label':'All Countries','value':'All'},\n",
    "                                           {'label':'United States','value':'United States'},\n",
    "                                           {'label':'India','value':'India'}],\n",
    "                                  value='All',\n",
    "                                  placeholder='Country'),width=2\n",
    "                     ),\n",
    "             dbc.Col(dcc.Dropdown(id='FL_Company_Size',\n",
    "                                  options=[{'label':'All Companies','value':'All'},\n",
    "                                           {'label':'Small','value':'Small (0-1,000)'},\n",
    "                                           {'label':'Medium','value':'Medium (1,000-10,000)'},\n",
    "                                           {'label':'Large','value':'Large (10,000+)'}],\n",
    "                                  value='All',\n",
    "                                  placeholder='Company Size'),width=2\n",
    "                    ),\n",
    "             dbc.Col(dcc.Dropdown(id='FL_Experience',\n",
    "                                  options=[{'label':'All Experience Level','value':'All'},\n",
    "                                           {'label':'Entry Level','value':'Entry Level'},\n",
    "                                           {'label':'Middle Level','value':'Middle Level'},\n",
    "                                           {'label':'Senior Level','value':'Senior Level'},\n",
    "                                           {'label':'Executive Level','value':'Executive Level'}],\n",
    "                                  value='All',\n",
    "                                  placeholder='Select Experience Level...'),width=2\n",
    "                    ),\n",
    "         dbc.Col(dcc.Checklist(id='FL_Year',\n",
    "                                  options=[{'label':'2020','value':2020},\n",
    "                                           {'label':'2021','value':2021},\n",
    "                                           {'label':'2021','value':2022}],\n",
    "                                  value=[2020,2021,2022]),width=2\n",
    "                    )\n",
    "            ],justify='around'\n",
    "           ),\n",
    "    \n",
    "    ##################### -- CARDS -- #####################\n",
    "#     Row for Cards\n",
    "    dbc.Row([dbc.Col(dbc.Card([#dbc.CardImg(src=\"/assets/cityicon.jpg\",top=True,) ,\n",
    "                dbc.CardHeader('Average Salary'), \n",
    "                dbc.CardBody(html.H4(id='card1',children=[]))\n",
    "               ],style={\"width\": \"1\"}),width=2),\n",
    "             \n",
    "             dbc.Col(dbc.Card([#dbc.CardImg(src=\"/assets/cityicon.jpg\",top=True,) ,\n",
    "                dbc.CardHeader('Top Paying Location'), \n",
    "                dbc.CardBody(html.H4(id='card2',children=[]))\n",
    "               ],style={\"width\": \"1\"}),width=2),\n",
    "             \n",
    "             dbc.Col(dbc.Card([#dbc.CardImg(src=\"/assets/cityicon.jpg\",top=True,) ,\n",
    "                dbc.CardHeader('Most Common Title'), \n",
    "                dbc.CardBody(html.H4(id='card3',children=[]))\n",
    "               ],style={\"width\": \"1\"}),width=2),\n",
    "             \n",
    "             dbc.Col(dbc.Card([#dbc.CardImg(src=\"/assets/cityicon.jpg\",top=True,) ,\n",
    "                dbc.CardHeader('Percentage of Jobs Remote'), \n",
    "                dbc.CardBody(html.H4(id='card4',children=[]))\n",
    "               ],style={\"width\": \"1\"}),width=2)\n",
    "             \n",
    "            ],justify='around',\n",
    "           ),\n",
    "    \n",
    "    ##################### -- GRAPHS -- #####################\n",
    "    # Row1 for Graphs\n",
    "    dbc.Row([dbc.Col(dcc.Graph(id='graph1',figure={}),width=4),\n",
    "             dbc.Col(dcc.Graph(id='graph2',figure={}),width=4),\n",
    "             dbc.Col(dcc.Graph(id='graph3',figure={}),width=4)\n",
    "            ],justify='start'\n",
    "           ),\n",
    "    \n",
    "    # Row2 for Graphs\n",
    "    dbc.Row([dbc.Col(dcc.Graph(id='graph4',figure={}),width=5),\n",
    "             dbc.Col(dcc.Graph(id='graph5',figure={}),width=5)\n",
    "            ],justify='around'\n",
    "           )\n",
    "    \n",
    "],fluid=True\n",
    ")\n",
    "@app.callback(\n",
    "    [Output(component_id='graph1',component_property='figure'),\n",
    "    Output(component_id='graph2',component_property='figure'),\n",
    "    Output(component_id='graph3',component_property='figure'),\n",
    "    Output(component_id='graph4',component_property='figure'),\n",
    "    Output(component_id='graph5',component_property='figure'),\n",
    "    Output(component_id='card1',component_property='children'),\n",
    "    Output(component_id='card2',component_property='children'),\n",
    "    Output(component_id='card3',component_property='children'),\n",
    "    Output(component_id='card4',component_property='children')],\n",
    "    [Input(component_id='FL_Country',component_property='value'),\n",
    "    Input(component_id='FL_Company_Size',component_property='value'),\n",
    "    Input(component_id='FL_Experience',component_property='value'),\n",
    "    Input(component_id='FL_Year',component_property='value')]\n",
    ")\n",
    "def update_graph(filter_country,filter_company,filter_experience,filter_year):\n",
    "    print('Filter for: ',filter_country,'-',filter_company,'-',filter_experience,'-',filter_year)\n",
    "    \n",
    "    df_copy=df.copy()\n",
    "    if len(filter_year)!=3:\n",
    "        df_copy=df_copy[df_copy['Year'].isin(filter_year)]\n",
    "    if filter_experience!='All':\n",
    "        df_copy=df_copy[df_copy['Experience']==filter_experience]\n",
    "    if filter_company!='All':\n",
    "        df_copy=df_copy[df_copy['Company_Size']==filter_company]\n",
    "    if filter_country!='All':\n",
    "        df_copy=df_copy[df_copy['Country']==filter_country]\n",
    "    \n",
    "    ##########################################\n",
    "    fig_1 = px.histogram(df_copy, x=\"Salary\",\n",
    "                   color='Company_Size',\n",
    "                   title='Salary Distribution Across Company Size',\n",
    "                   labels={'Salary':'Salary(in US$)','count':'Count of People'},\n",
    "                   opacity=0.75,\n",
    "                   color_discrete_sequence=['#1da1f2','#2774AE','#120A8F'],marginal='violin')\n",
    "    fig_1.update_layout(showlegend=True)\n",
    "    fig_1.update_layout({'plot_bgcolor': 'rgba(0, 0, 0, 0)','paper_bgcolor': 'rgba(0, 0, 0, 0)'})\n",
    "    \n",
    "    ##########################################\n",
    "    df2=df_copy.groupby(by=['Alpha-3 code','Country','Continent','Lat','Long'],as_index=False)['Salary'].mean()\n",
    "    df2['Salary']=df2['Salary'].round()\n",
    "    \n",
    "    fig_2=px.choropleth(df2,locations='Alpha-3 code',\n",
    "                   color='Salary',\n",
    "                    hover_data=['Country','Salary'],\n",
    "                   hover_name='Country',\n",
    "                    title='Average Salary Across Countries',\n",
    "                  color_continuous_scale=px.colors.sequential.GnBu_r,basemap_visible=True,projection='robinson')\n",
    "    fig_2.update_layout(margin=dict(l=10, r=10, t=30, b=50))\n",
    "    \n",
    "    ##########################################\n",
    "    df3=df_copy.groupby(by=['Continent'],as_index=False)['Salary'].mean()\n",
    "    df3['Salary']=round(df3['Salary'])\n",
    "    df3.sort_values('Salary',inplace=True)\n",
    "    \n",
    "    fig_3 = px.bar(df3, x=\"Salary\", y=\"Continent\", orientation='h',color='Salary',\n",
    "              title=\"Salary Distribution by Region\",\n",
    "              labels={'Salary':'Salary in US$'},\n",
    "              opacity=0.75,\n",
    "              color_continuous_scale=px.colors.sequential.GnBu\n",
    "             )\n",
    "    fig_3.update_layout({'plot_bgcolor': 'rgba(0, 0, 0, 0)','paper_bgcolor': 'rgba(0, 0, 0, 0)'})\n",
    "    \n",
    "    ##########################################\n",
    "    df4=df_copy.groupby(by=['Experience'],as_index=False)['Salary'].mean()\n",
    "    df4['Salary']=round(df4['Salary'])\n",
    "    df4.sort_values('Salary',inplace=True,ascending=False)\n",
    "\n",
    "    fig_4=px.bar(df4,x='Experience',y='Salary',\n",
    "            title='Salary Distribution by Experience Level',\n",
    "#             pattern_shape='Experience',\n",
    "            opacity=0.75,color_continuous_scale=px.colors.sequential.GnBu,\n",
    "            color='Salary',\n",
    "            text='Salary',\n",
    "            labels={'Salary':'Salary in USD','Experience':'Experience Level'})\n",
    "\n",
    "    fig_4.update_layout({'plot_bgcolor': 'rgba(0, 0, 0, 0)','paper_bgcolor': 'rgba(0, 0, 0, 0)'})\n",
    "    \n",
    "    ##########################################\n",
    "    df5=df_copy.groupby(by=['Job_Title'],as_index=False)['Salary'].mean()\n",
    "    df5['Salary']=round(df5['Salary'])\n",
    "    df5.sort_values('Salary',inplace=True,ascending=False)\n",
    "    \n",
    "    fig_5 = px.bar(df5[0:10], x=\"Salary\", y=\"Job_Title\", orientation='h',color='Salary',\n",
    "              color_continuous_scale=px.colors.sequential.GnBu,\n",
    "              title=\"Top 10 Paying Job Titles\"\n",
    "             )\n",
    "    fig_5.update_layout({'plot_bgcolor': 'rgba(0, 0, 0, 0)','paper_bgcolor': 'rgba(0, 0, 0, 0)'})\n",
    "    \n",
    "    # Average Salary\n",
    "    card1='$'+str(round(df_copy['Salary'].mean()))\n",
    "    # Top Paying Country\n",
    "    card2= df_copy.groupby(by=['Country'],as_index=False)['Salary'].max().sort_values('Salary',ascending=False).reset_index()['Country'][0]\n",
    "    # Most Common Job Title\n",
    "    card3= df_copy.groupby(by=['Job_Title'],as_index=False)['Salary'].count().sort_values('Salary',ascending=False).reset_index()['Job_Title'][0]\n",
    "    # Percentage of Jobs Remote\n",
    "    card4= str(round((df_copy[df_copy['remote_ratio']>0]['remote_ratio'].count()/df_copy['remote_ratio'].count())*100,2))+' %'\n",
    "    \n",
    "    return [fig_1,fig_2,fig_3,fig_4,fig_5,card1,card2,card3,card4]\n",
    "\n",
    "if __name__=='__main__':\n",
    "    app.run_server(debug=False)\n",
    "    "
   ]
  },
  {
   "cell_type": "markdown",
   "id": "60b2adb4",
   "metadata": {},
   "source": [
    "# Import links\n",
    "https://bootswatch.com/default/ <br>\n",
    "https://hackerthemes.com/bootstrap-cheatsheet/#mb-1 <br>\n",
    "https://dash-bootstrap-components.opensource.faculty.ai/docs/components/card/ <br>\n",
    "https://www.youtube.com/watch?v=0mfIK8zxUds"
   ]
  },
  {
   "cell_type": "markdown",
   "id": "8c5b21a0",
   "metadata": {},
   "source": [
    "# GraphPlots"
   ]
  },
  {
   "cell_type": "markdown",
   "id": "7f9b4ba7",
   "metadata": {},
   "source": [
    "### 1. Salary Historgram"
   ]
  },
  {
   "cell_type": "code",
   "execution_count": null,
   "id": "5154d4b1",
   "metadata": {
    "scrolled": false
   },
   "outputs": [],
   "source": [
    "# fig = px.histogram(df, x=\"salary_in_usd\",title=\"Salary Distribution\",color=None)\n",
    "# To make color WHITE and remove background\n",
    "# fig.update_layout({'paper_bgcolor': 'rgba(0,0,0,0)','font_color':'#FFFFFF'})\n",
    "# fig.update_layout(title='Salary Distribution Across Company Size')\n",
    "\n",
    "\n",
    "fig_1 = px.histogram(df, x=\"Salary\",\n",
    "                   color='Company_Size',\n",
    "                   title='Salary Distribution Across Company Size',\n",
    "                   labels={'Salary':'Salary(in US$)','count':'Count of People'},\n",
    "                   opacity=0.75,\n",
    "                   color_discrete_sequence=['#1da1f2','#2774AE','#120A8F'],marginal='violin')\n",
    "fig_1.update_layout(showlegend=False)\n",
    "fig_1.update_layout({'plot_bgcolor': 'rgba(0, 0, 0, 0)','paper_bgcolor': 'rgba(0, 0, 0, 0)'})\n",
    "\n",
    "fig_1.show()"
   ]
  },
  {
   "cell_type": "markdown",
   "id": "84aa1633",
   "metadata": {},
   "source": [
    "### 2. Bubble Chart"
   ]
  },
  {
   "cell_type": "code",
   "execution_count": null,
   "id": "6ee49f16",
   "metadata": {
    "scrolled": true
   },
   "outputs": [],
   "source": [
    "df1=df.groupby(by=['Alpha-3 code','Country','Continent','Lat','Long'],as_index=False)['Salary'].mean()\n",
    "df1['Salary']=df1['Salary'].round()\n",
    "df1.head()"
   ]
  },
  {
   "cell_type": "code",
   "execution_count": null,
   "id": "4d646777",
   "metadata": {
    "scrolled": false
   },
   "outputs": [],
   "source": [
    "# fig_2=px.scatter_mapbox(df1,lat='Lat',lon='Long',color='Continent',\n",
    "#                         size='Salary',mapbox_style='open-street-map',\n",
    "#                         zoom=1,\n",
    "#                         hover_data=['Country','Salary'],hover_name='Country',\n",
    "#                         size_max=30,opacity=0.7,\n",
    "#                         title='Avg Salary Distribution across Countries',\n",
    "#                         text=[item for item in df1['Continent']],\n",
    "#                         color_discrete_sequence=['#5F9EA0','#7CB9E8','#007FFF','#005A9C','#13274F',])\n",
    "\n",
    "# fig_2.update_layout(margin=dict(l=60, r=60, t=50, b=80))\n",
    "# fig_2.update_layout(\n",
    "#         autosize=False,\n",
    "#         margin = dict(\n",
    "#                 l=0,\n",
    "#                 r=0,\n",
    "#                 b=0,\n",
    "#                 t=0,\n",
    "# #                 pad=4,\n",
    "# #                 autoexpand=True\n",
    "#             ),\n",
    "#             width=1000, height=400,\n",
    "#     )\n",
    "\n",
    "# fig_2.show()"
   ]
  },
  {
   "cell_type": "code",
   "execution_count": null,
   "id": "30902257",
   "metadata": {},
   "outputs": [],
   "source": [
    "fig_2=px.choropleth(df1,locations='Alpha-3 code',\n",
    "                   color='Salary',\n",
    "                    hover_data=['Country','Salary'],\n",
    "                   hover_name='Country',\n",
    "                    title='Average Salary Across Countries',\n",
    "                  color_continuous_scale=px.colors.sequential.GnBu_r,basemap_visible=True,projection='robinson')\n",
    "fig_2.update_layout(margin=dict(l=10, r=10, t=30, b=50))\n",
    "fig_2.show()"
   ]
  },
  {
   "cell_type": "markdown",
   "id": "8271d9b1",
   "metadata": {},
   "source": [
    "### By Region"
   ]
  },
  {
   "cell_type": "code",
   "execution_count": null,
   "id": "c077ee0b",
   "metadata": {},
   "outputs": [],
   "source": [
    "df2=df.groupby(by=['Continent'],as_index=False)['Salary'].mean()\n",
    "df2['Salary']=round(df2['Salary'])\n",
    "df2.sort_values('Salary',inplace=True)\n",
    "df2"
   ]
  },
  {
   "cell_type": "code",
   "execution_count": null,
   "id": "55a7eb01",
   "metadata": {},
   "outputs": [],
   "source": [
    "fig_3 = px.bar(df2, x=\"Salary\", y=\"Continent\", orientation='h',color='Salary',\n",
    "              title=\"Salary Distribution by Region\",\n",
    "              labels={'Salary':'Salary in US$'},\n",
    "              opacity=0.75,\n",
    "              color_continuous_scale=px.colors.sequential.GnBu\n",
    "             )\n",
    "fig_3.update_layout({'plot_bgcolor': 'rgba(0, 0, 0, 0)','paper_bgcolor': 'rgba(0, 0, 0, 0)'})\n",
    "fig_3.show()"
   ]
  },
  {
   "cell_type": "markdown",
   "id": "4c0d92d1",
   "metadata": {},
   "source": [
    "### 5. By Experience"
   ]
  },
  {
   "cell_type": "code",
   "execution_count": null,
   "id": "f86286bc",
   "metadata": {},
   "outputs": [],
   "source": [
    "df3=df.groupby(by=['Experience'],as_index=False)['Salary'].mean()\n",
    "df3['Salary']=round(df3['Salary'])\n",
    "df3.sort_values('Salary',inplace=True,ascending=False)\n",
    "df3"
   ]
  },
  {
   "cell_type": "code",
   "execution_count": null,
   "id": "90b71c7e",
   "metadata": {},
   "outputs": [],
   "source": [
    "fig_4=px.bar(df3,x='Experience',y='Salary',\n",
    "            title='Salary Distribution by Experience Level',\n",
    "#             pattern_shape='Experience',\n",
    "            opacity=0.75,color_continuous_scale=px.colors.sequential.GnBu,\n",
    "            color='Salary',\n",
    "            text='Salary',\n",
    "            labels={'Salary':'Salary in USD','Experience':'Experience Level'})\n",
    "\n",
    "fig_4.update_layout({'plot_bgcolor': 'rgba(0, 0, 0, 0)','paper_bgcolor': 'rgba(0, 0, 0, 0)'})\n",
    "fig_4.show()"
   ]
  },
  {
   "cell_type": "markdown",
   "id": "84ed8fbd",
   "metadata": {},
   "source": [
    "### 5. Top N job Title "
   ]
  },
  {
   "cell_type": "code",
   "execution_count": null,
   "id": "89c6684d",
   "metadata": {
    "scrolled": true
   },
   "outputs": [],
   "source": [
    "df4=df.groupby(by=['Job_Title'],as_index=False)['Salary'].mean()\n",
    "df4['Salary']=round(df4['Salary'])\n",
    "df4.sort_values('Salary',inplace=True,ascending=False)"
   ]
  },
  {
   "cell_type": "code",
   "execution_count": null,
   "id": "38234ecc",
   "metadata": {},
   "outputs": [],
   "source": [
    "fig_5 = px.bar(df4[0:10], x=\"Salary\", y=\"Job_Title\", orientation='h',color='Salary',\n",
    "              color_continuous_scale=px.colors.sequential.GnBu\n",
    "#               title=\"Top 10 Paying Job Titles\"\n",
    "             )\n",
    "fig_5.update_layout()\n",
    "fig_5.show()"
   ]
  },
  {
   "cell_type": "code",
   "execution_count": null,
   "id": "5e9c5ee1",
   "metadata": {},
   "outputs": [],
   "source": [
    "# Card 1 : Mean Salary\n",
    "card1=dbc.Card([#dbc.CardImg(src=\"/assets/cityicon.jpg\",top=True,) ,\n",
    "                dbc.CardHeader('Average Salary'), \n",
    "                dbc.CardBody(html.H4('$20,000'))\n",
    "               ],style={\"width\": \"1\"})\n",
    "\n",
    "card2=dbc.Card([#dbc.CardImg(src=\"/assets/cityicon.jpg\",top=True,) ,\n",
    "                dbc.CardHeader('Top Paying Location'), \n",
    "                dbc.CardBody(html.H4('United States'))\n",
    "               ],style={\"width\": \"1\"})\n",
    "\n",
    "card3=dbc.Card([#dbc.CardImg(src=\"/assets/cityicon.jpg\",top=True,) ,\n",
    "                dbc.CardHeader('Most Common Title'), \n",
    "                dbc.CardBody(html.H4('Data Scientist'))\n",
    "               ],style={\"width\": \"1\"})\n",
    "\n",
    "card4=dbc.Card([#dbc.CardImg(src=\"/assets/cityicon.jpg\",top=True,) ,\n",
    "                dbc.CardHeader('Remote Job'), \n",
    "                dbc.CardBody(html.H4('50%'))\n",
    "               ],style={\"width\": \"1\"})"
   ]
  }
 ],
 "metadata": {
  "kernelspec": {
   "display_name": "Python 3 (ipykernel)",
   "language": "python",
   "name": "python3"
  },
  "language_info": {
   "codemirror_mode": {
    "name": "ipython",
    "version": 3
   },
   "file_extension": ".py",
   "mimetype": "text/x-python",
   "name": "python",
   "nbconvert_exporter": "python",
   "pygments_lexer": "ipython3",
   "version": "3.9.12"
  }
 },
 "nbformat": 4,
 "nbformat_minor": 5
}
